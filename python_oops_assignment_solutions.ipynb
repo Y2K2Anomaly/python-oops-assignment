{
  "cells": [
    {
      "cell_type": "markdown",
      "id": "c28df10d",
      "metadata": {
        "id": "c28df10d"
      },
      "source": [
        "## Theoretical Questions"
      ]
    },
    {
      "cell_type": "markdown",
      "id": "9f475e9a",
      "metadata": {
        "id": "9f475e9a"
      },
      "source": [
        "**1) What is Object-Oriented Programming (OOP)?**\n",
        "\n",
        "Object‑Oriented Programming is a paradigm where software is organized as **objects**—bundles of data (attributes) and behavior (methods).\n",
        " Key ideas: **encapsulation**, **abstraction**, **inheritance**, and **polymorphism**. OOP helps model real‑world entities, promotes reuse, and improves maintainability."
      ]
    },
    {
      "cell_type": "markdown",
      "id": "7b2ea644",
      "metadata": {
        "id": "7b2ea644"
      },
      "source": [
        "**2) What is a class in OOP?**\n",
        "\n",
        "A **class** is a blueprint for creating objects. It defines the attributes and methods that its instances (objects) will have."
      ]
    },
    {
      "cell_type": "markdown",
      "id": "8a4110db",
      "metadata": {
        "id": "8a4110db"
      },
      "source": [
        "**3) What is an object in OOP?**\n",
        "\n",
        "An **object** is an instance of a class with its own state (attribute values) and the behaviors defined by its class."
      ]
    },
    {
      "cell_type": "markdown",
      "id": "28091f0d",
      "metadata": {
        "id": "28091f0d"
      },
      "source": [
        "**4) What is the difference between abstraction and encapsulation?**\n",
        "\n",
        "**Abstraction** hides *conceptual* complexity by exposing only essential features (what it does).\n",
        " **Encapsulation** hides *implementation* details by bundling data and methods and controlling access (how it’s done)."
      ]
    },
    {
      "cell_type": "markdown",
      "id": "324a23a2",
      "metadata": {
        "id": "324a23a2"
      },
      "source": [
        "**5) What are dunder methods in Python?**\n",
        "\n",
        "**Dunder** (double‑underscore) methods like `__init__`, `__str__`, `__add__` provide special hooks that integrate your class with Python’s syntax and protocols (construction, printing, operators, context managers, iteration, etc.)."
      ]
    },
    {
      "cell_type": "markdown",
      "id": "ee72f7bb",
      "metadata": {
        "id": "ee72f7bb"
      },
      "source": [
        "**6) Explain the concept of inheritance in OOP.**\n",
        "\n",
        "**Inheritance** lets a class (child/subclass) reuse and extend another class (parent/superclass). The child gets the parent’s attributes/methods and can add new ones or override behavior."
      ]
    },
    {
      "cell_type": "markdown",
      "id": "e8eb83a8",
      "metadata": {
        "id": "e8eb83a8"
      },
      "source": [
        "**7) What is polymorphism in OOP?**\n",
        "\n",
        "**Polymorphism** means “many forms”: code written against a common interface can work with different concrete types. In Python, polymorphism is often *duck typing*—if it quacks like a duck, it’s treated like a duck."
      ]
    },
    {
      "cell_type": "markdown",
      "id": "09baa5c5",
      "metadata": {
        "id": "09baa5c5"
      },
      "source": [
        "**8) How is encapsulation achieved in Python?**\n",
        "\n",
        "By convention using a single underscore `_name` (protected) and name‑mangling with double underscore `__name` (private-ish). True privacy isn’t enforced, but access is discouraged. Properties and methods control read/write access."
      ]
    },
    {
      "cell_type": "markdown",
      "id": "dcc16ee5",
      "metadata": {
        "id": "dcc16ee5"
      },
      "source": [
        "**9) What is a constructor in Python?**\n",
        "\n",
        "`__init__(self, ...)` initializes a newly created instance (after `__new__`). It sets up initial state."
      ]
    },
    {
      "cell_type": "markdown",
      "id": "8a1d8b4a",
      "metadata": {
        "id": "8a1d8b4a"
      },
      "source": [
        "**10) What are class and static methods in Python?**\n",
        "\n",
        "A **@classmethod** receives the class (`cls`) and is often used for alternative constructors or class‑level operations.\n",
        " A **@staticmethod** receives no implicit first argument and is a namespaced utility function related to the class."
      ]
    },
    {
      "cell_type": "markdown",
      "id": "6c100279",
      "metadata": {
        "id": "6c100279"
      },
      "source": [
        "**11) What is method overloading in Python?**\n",
        "\n",
        "Python doesn’t support traditional compile‑time overloading by signature. Use default arguments, `*args/**kwargs`, or `functools.singledispatch` for function overloading patterns."
      ]
    },
    {
      "cell_type": "markdown",
      "id": "ee1bf041",
      "metadata": {
        "id": "ee1bf041"
      },
      "source": [
        "**12) What is method overriding in OOP?**\n",
        "\n",
        "A subclass **overrides** a method by defining the same method name as the parent to change/extend behavior. Often used with `super()` to reuse part of the parent implementation."
      ]
    },
    {
      "cell_type": "markdown",
      "id": "d2e29fbf",
      "metadata": {
        "id": "d2e29fbf"
      },
      "source": [
        "**13) What is a property decorator in Python?**\n",
        "\n",
        "`@property` turns a method into an attribute‑like accessor with optional setters/deleters. It enables computed attributes and controlled access while keeping attribute syntax."
      ]
    },
    {
      "cell_type": "markdown",
      "id": "2beb3144",
      "metadata": {
        "id": "2beb3144"
      },
      "source": [
        "**14) Why is polymorphism important in OOP?**\n",
        "\n",
        "It decouples *what* code does from *which* concrete type performs it, enabling flexible APIs, easier extension, and fewer conditionals/switches."
      ]
    },
    {
      "cell_type": "markdown",
      "id": "1bd68a51",
      "metadata": {
        "id": "1bd68a51"
      },
      "source": [
        "**15) What is an abstract class in Python?**\n",
        "\n",
        "An **abstract base class (ABC)** defines an interface and may include abstract methods that must be implemented by subclasses. Use `abc.ABC` and `@abstractmethod`."
      ]
    },
    {
      "cell_type": "markdown",
      "id": "3958032e",
      "metadata": {
        "id": "3958032e"
      },
      "source": [
        "**16) What are the advantages of OOP?**\n",
        "\n",
        "Modularity, code reuse via inheritance/composition, easier maintenance, clearer modeling of real‑world domains, and polymorphic flexibility."
      ]
    },
    {
      "cell_type": "markdown",
      "id": "04ca33be",
      "metadata": {
        "id": "04ca33be"
      },
      "source": [
        "**17) What is the difference between a class variable and an instance variable?**\n",
        "\n",
        "A **class variable** is shared by all instances (`Class.var`). An **instance variable** belongs to a specific object (`self.var`)."
      ]
    },
    {
      "cell_type": "markdown",
      "id": "0eba3703",
      "metadata": {
        "id": "0eba3703"
      },
      "source": [
        "**18) What is multiple inheritance in Python?**\n",
        "\n",
        "A class can inherit from multiple parents: `class C(A, B): ...`. Python uses **MRO (method resolution order)** to determine lookup order (C3 linearization)."
      ]
    },
    {
      "cell_type": "markdown",
      "id": "710acaad",
      "metadata": {
        "id": "710acaad"
      },
      "source": [
        "**19) Explain the purpose of `__str__` and `__repr__` methods in Python.**\n",
        "\n",
        "`__str__` returns a human‑friendly string (used by `print`). `__repr__` returns an unambiguous representation for developers, ideally something that could recreate the object if evaluated."
      ]
    },
    {
      "cell_type": "markdown",
      "id": "ac1d87e5",
      "metadata": {
        "id": "ac1d87e5"
      },
      "source": [
        "**20) What is the significance of the `super()` function in Python?**\n",
        "\n",
        "`super()` gives access to the next class in the MRO for cooperative multiple inheritance, commonly to call parent implementations without hard‑coding the parent name."
      ]
    },
    {
      "cell_type": "markdown",
      "id": "733fd2f3",
      "metadata": {
        "id": "733fd2f3"
      },
      "source": [
        "**21) What is the significance of the `__del__` method in Python?**\n",
        "\n",
        "`__del__` is a destructor called when an object is about to be garbage‑collected. It’s fragile (collection timing is uncertain), so avoid relying on it for critical cleanup—prefer context managers (`with`) and `__enter__/__exit__`."
      ]
    },
    {
      "cell_type": "markdown",
      "id": "e3814e91",
      "metadata": {
        "id": "e3814e91"
      },
      "source": [
        "**22) What is the difference between `@staticmethod` and `@classmethod` in Python?**\n",
        "\n",
        "`@staticmethod`: no `self`/`cls`; utility function scoped to a class.\n",
        " `@classmethod`: receives `cls`; can read/modify class state or serve as an alternative constructor."
      ]
    },
    {
      "cell_type": "markdown",
      "id": "2d80db5b",
      "metadata": {
        "id": "2d80db5b"
      },
      "source": [
        "**23) How does polymorphism work in Python with inheritance?**\n",
        "\n",
        "Subclasses override base methods; calls through a base reference dispatch to the subclass implementation at runtime (dynamic dispatch). Duck typing also enables polymorphism without inheritance."
      ]
    },
    {
      "cell_type": "markdown",
      "id": "aeecddf1",
      "metadata": {
        "id": "aeecddf1"
      },
      "source": [
        "**24) What is method chaining in Python OOP?**\n",
        "\n",
        "Returning `self` from mutating methods allows chaining: `obj.do_a().do_b().finish()`. It leads to fluent APIs."
      ]
    },
    {
      "cell_type": "markdown",
      "id": "33444736",
      "metadata": {
        "id": "33444736"
      },
      "source": [
        "**25) What is the purpose of the `__call__` method in Python?**\n",
        "\n",
        "Defining `__call__` makes an instance **callable** like a function: `obj(...)`. Useful for functor objects, configurable processors, and stateful callbacks."
      ]
    },
    {
      "cell_type": "markdown",
      "id": "87774862",
      "metadata": {
        "id": "87774862"
      },
      "source": [
        "## Practical Questions"
      ]
    },
    {
      "cell_type": "markdown",
      "id": "fd23d6a9",
      "metadata": {
        "id": "fd23d6a9"
      },
      "source": [
        "1. Create a parent class Animal with a method speak() that prints a generic message. Create a child class Dog\n",
        "that overrides the speak() method to print \"Bark!\"."
      ]
    },
    {
      "cell_type": "code",
      "execution_count": 1,
      "id": "046c0685",
      "metadata": {
        "colab": {
          "base_uri": "https://localhost:8080/"
        },
        "id": "046c0685",
        "outputId": "43635172-9f97-47a6-c11f-6acd4cd12705"
      },
      "outputs": [
        {
          "output_type": "stream",
          "name": "stdout",
          "text": [
            "Generic animal sound.\n",
            "Bark!\n"
          ]
        }
      ],
      "source": [
        "\n",
        "class Animal:\n",
        "    def speak(self):\n",
        "        print(\"Generic animal sound.\")\n",
        "\n",
        "class Dog(Animal):\n",
        "    def speak(self):\n",
        "        print(\"Bark!\")\n",
        "\n",
        "# Demo\n",
        "Animal().speak()\n",
        "Dog().speak()\n"
      ]
    },
    {
      "cell_type": "markdown",
      "id": "0299a5b9",
      "metadata": {
        "id": "0299a5b9"
      },
      "source": [
        "2. Write a program to create an abstract class Shape with a method area(). Derive classes Circle and Rectangle\n",
        "from it and implement the area() method in both."
      ]
    },
    {
      "cell_type": "code",
      "execution_count": 2,
      "id": "f2071dc0",
      "metadata": {
        "colab": {
          "base_uri": "https://localhost:8080/"
        },
        "id": "f2071dc0",
        "outputId": "4e0bd383-9092-4158-8db5-e4ed096f7b07"
      },
      "outputs": [
        {
          "output_type": "stream",
          "name": "stdout",
          "text": [
            "28.27\n",
            "20\n"
          ]
        }
      ],
      "source": [
        "\n",
        "from abc import ABC, abstractmethod\n",
        "import math\n",
        "\n",
        "class Shape(ABC):\n",
        "    @abstractmethod\n",
        "    def area(self):\n",
        "        pass\n",
        "\n",
        "class Circle(Shape):\n",
        "    def __init__(self, radius):\n",
        "        self.radius = radius\n",
        "    def area(self):\n",
        "        return math.pi * self.radius ** 2\n",
        "\n",
        "class Rectangle(Shape):\n",
        "    def __init__(self, width, height):\n",
        "        self.width = width\n",
        "        self.height = height\n",
        "    def area(self):\n",
        "        return self.width * self.height\n",
        "\n",
        "# Demo\n",
        "print(round(Circle(3).area(), 2))\n",
        "print(Rectangle(4, 5).area())\n"
      ]
    },
    {
      "cell_type": "markdown",
      "id": "f16117b8",
      "metadata": {
        "id": "f16117b8"
      },
      "source": [
        "3. Implement a multi-level inheritance scenario where a class Vehicle has an attribute type. Derive a class Car\n",
        "and further derive a class ElectricCar that adds a battery attribute."
      ]
    },
    {
      "cell_type": "code",
      "execution_count": 3,
      "id": "ff7383d4",
      "metadata": {
        "colab": {
          "base_uri": "https://localhost:8080/"
        },
        "id": "ff7383d4",
        "outputId": "594e5b9c-04a2-4480-ab8e-3db3894b1085"
      },
      "outputs": [
        {
          "output_type": "stream",
          "name": "stdout",
          "text": [
            "Car Tesla 75\n"
          ]
        }
      ],
      "source": [
        "\n",
        "class Vehicle:\n",
        "    def __init__(self, vtype):\n",
        "        self.type = vtype\n",
        "\n",
        "class Car(Vehicle):\n",
        "    def __init__(self, brand):\n",
        "        super().__init__(vtype=\"Car\")\n",
        "        self.brand = brand\n",
        "\n",
        "class ElectricCar(Car):\n",
        "    def __init__(self, brand, battery_kwh):\n",
        "        super().__init__(brand)\n",
        "        self.battery_kwh = battery_kwh\n",
        "\n",
        "# Demo\n",
        "ec = ElectricCar(\"Tesla\", 75)\n",
        "print(ec.type, ec.brand, ec.battery_kwh)\n"
      ]
    },
    {
      "cell_type": "markdown",
      "id": "3966cbbc",
      "metadata": {
        "id": "3966cbbc"
      },
      "source": [
        "4. Demonstrate polymorphism by creating a base class Bird with a method fly(). Create two derived classes\n",
        "Sparrow and Penguin that override the fly() method."
      ]
    },
    {
      "cell_type": "code",
      "execution_count": 4,
      "id": "ad961c26",
      "metadata": {
        "colab": {
          "base_uri": "https://localhost:8080/"
        },
        "id": "ad961c26",
        "outputId": "39beeb92-e9b2-4ecd-bdba-2ef457b398a2"
      },
      "outputs": [
        {
          "output_type": "stream",
          "name": "stdout",
          "text": [
            "Some birds can fly.\n",
            "Sparrow flying!\n",
            "Penguins cannot fly; they waddle and swim.\n"
          ]
        }
      ],
      "source": [
        "\n",
        "class Bird:\n",
        "    def fly(self):\n",
        "        print(\"Some birds can fly.\")\n",
        "\n",
        "class Sparrow(Bird):\n",
        "    def fly(self):\n",
        "        print(\"Sparrow flying!\")\n",
        "\n",
        "class Penguin(Bird):\n",
        "    def fly(self):\n",
        "        print(\"Penguins cannot fly; they waddle and swim.\")\n",
        "\n",
        "# Demo\n",
        "for b in (Bird(), Sparrow(), Penguin()):\n",
        "    b.fly()\n"
      ]
    },
    {
      "cell_type": "markdown",
      "id": "4abafb80",
      "metadata": {
        "id": "4abafb80"
      },
      "source": [
        "5. Write a program to demonstrate encapsulation by creating a class BankAccount with private attributes\n",
        "balance and methods to deposit, withdraw, and check balance."
      ]
    },
    {
      "cell_type": "code",
      "execution_count": 5,
      "id": "852618a0",
      "metadata": {
        "colab": {
          "base_uri": "https://localhost:8080/"
        },
        "id": "852618a0",
        "outputId": "ec5d3f1a-1910-4ab0-cbc2-7893a5d0cf62"
      },
      "outputs": [
        {
          "output_type": "stream",
          "name": "stdout",
          "text": [
            "1300\n"
          ]
        }
      ],
      "source": [
        "\n",
        "class BankAccount:\n",
        "    def __init__(self, owner, balance=0):\n",
        "        self.owner = owner\n",
        "        self.__balance = balance  # private-ish\n",
        "\n",
        "    def deposit(self, amount):\n",
        "        if amount <= 0:\n",
        "            raise ValueError(\"Deposit must be positive\")\n",
        "        self.__balance += amount\n",
        "\n",
        "    def withdraw(self, amount):\n",
        "        if amount <= 0:\n",
        "            raise ValueError(\"Withdrawal must be positive\")\n",
        "        if amount > self.__balance:\n",
        "            raise ValueError(\"Insufficient funds\")\n",
        "        self.__balance -= amount\n",
        "\n",
        "    def get_balance(self):\n",
        "        return self.__balance\n",
        "\n",
        "# Demo\n",
        "acct = BankAccount(\"Pawan\", 1000)\n",
        "acct.deposit(500)\n",
        "acct.withdraw(200)\n",
        "print(acct.get_balance())\n"
      ]
    },
    {
      "cell_type": "markdown",
      "id": "0600c83e",
      "metadata": {
        "id": "0600c83e"
      },
      "source": [
        "6. Demonstrate runtime polymorphism using a method play() in a base class Instrument. Derive classes Guitar\n",
        "and Piano that implement their own version of play()."
      ]
    },
    {
      "cell_type": "code",
      "execution_count": 6,
      "id": "3041d354",
      "metadata": {
        "colab": {
          "base_uri": "https://localhost:8080/"
        },
        "id": "3041d354",
        "outputId": "c542af27-0755-45fd-a957-9e8c87fb67f4"
      },
      "outputs": [
        {
          "output_type": "stream",
          "name": "stdout",
          "text": [
            "Instrument is playing...\n",
            "Strum strum 🎸\n",
            "Plink plonk 🎹\n"
          ]
        }
      ],
      "source": [
        "\n",
        "class Instrument:\n",
        "    def play(self):\n",
        "        print(\"Instrument is playing...\")\n",
        "\n",
        "class Guitar(Instrument):\n",
        "    def play(self):\n",
        "        print(\"Strum strum 🎸\")\n",
        "\n",
        "class Piano(Instrument):\n",
        "    def play(self):\n",
        "        print(\"Plink plonk 🎹\")\n",
        "\n",
        "# Demo\n",
        "for inst in (Instrument(), Guitar(), Piano()):\n",
        "    inst.play()\n"
      ]
    },
    {
      "cell_type": "markdown",
      "id": "d61b8255",
      "metadata": {
        "id": "d61b8255"
      },
      "source": [
        "7. Create a class MathOperations with a class method add_numbers() to add two numbers and a static\n",
        "method subtract_numbers() to subtract two numbers."
      ]
    },
    {
      "cell_type": "code",
      "execution_count": 7,
      "id": "430b5b4e",
      "metadata": {
        "colab": {
          "base_uri": "https://localhost:8080/"
        },
        "id": "430b5b4e",
        "outputId": "d5c881ca-8416-49f5-8350-4d560ec834b9"
      },
      "outputs": [
        {
          "output_type": "stream",
          "name": "stdout",
          "text": [
            "5\n",
            "6\n"
          ]
        }
      ],
      "source": [
        "\n",
        "class MathOperations:\n",
        "    scale = 1\n",
        "\n",
        "    @classmethod\n",
        "    def add_numbers(cls, a, b):\n",
        "        # Uses class state (scale) to demonstrate possible use\n",
        "        return cls.scale * (a + b)\n",
        "\n",
        "    @staticmethod\n",
        "    def subtract_numbers(a, b):\n",
        "        return a - b\n",
        "\n",
        "# Demo\n",
        "print(MathOperations.add_numbers(2, 3))\n",
        "print(MathOperations.subtract_numbers(10, 4))\n"
      ]
    },
    {
      "cell_type": "markdown",
      "id": "6bf7f439",
      "metadata": {
        "id": "6bf7f439"
      },
      "source": [
        "8. Implement a class Person with a class method to count the total number of persons created."
      ]
    },
    {
      "cell_type": "code",
      "execution_count": 8,
      "id": "9fdefab0",
      "metadata": {
        "colab": {
          "base_uri": "https://localhost:8080/"
        },
        "id": "9fdefab0",
        "outputId": "f9c1d365-b720-4205-8dc4-d1ebec37cc07"
      },
      "outputs": [
        {
          "output_type": "stream",
          "name": "stdout",
          "text": [
            "2\n"
          ]
        }
      ],
      "source": [
        "\n",
        "class Person:\n",
        "    _count = 0\n",
        "\n",
        "    def __init__(self, name):\n",
        "        self.name = name\n",
        "        Person._count += 1\n",
        "\n",
        "    @classmethod\n",
        "    def total_created(cls):\n",
        "        return cls._count\n",
        "\n",
        "# Demo\n",
        "p1 = Person(\"A\")\n",
        "p2 = Person(\"B\")\n",
        "print(Person.total_created())\n"
      ]
    },
    {
      "cell_type": "markdown",
      "id": "0c547929",
      "metadata": {
        "id": "0c547929"
      },
      "source": [
        "9. Write a class Fraction with attributes numerator and denominator. Override the str method to display the\n",
        "fraction as \"numerator/denominator\"."
      ]
    },
    {
      "cell_type": "code",
      "execution_count": 9,
      "id": "380e539b",
      "metadata": {
        "colab": {
          "base_uri": "https://localhost:8080/"
        },
        "id": "380e539b",
        "outputId": "b26dde07-49e5-4941-aa5e-bb75c52bf17a"
      },
      "outputs": [
        {
          "output_type": "stream",
          "name": "stdout",
          "text": [
            "3/4\n"
          ]
        }
      ],
      "source": [
        "\n",
        "class Fraction:\n",
        "    def __init__(self, numerator, denominator):\n",
        "        if denominator == 0:\n",
        "            raise ValueError(\"Denominator cannot be zero\")\n",
        "        self.numerator = numerator\n",
        "        self.denominator = denominator\n",
        "\n",
        "    def __str__(self):\n",
        "        return f\"{self.numerator}/{self.denominator}\"\n",
        "\n",
        "# Demo\n",
        "print(Fraction(3, 4))\n"
      ]
    },
    {
      "cell_type": "markdown",
      "id": "1afb37ee",
      "metadata": {
        "id": "1afb37ee"
      },
      "source": [
        "10. Demonstrate operator overloading by creating a class Vector and overriding the add method to add two\n",
        "vectors."
      ]
    },
    {
      "cell_type": "code",
      "execution_count": 10,
      "id": "07ea87b2",
      "metadata": {
        "colab": {
          "base_uri": "https://localhost:8080/"
        },
        "id": "07ea87b2",
        "outputId": "e2db5351-9875-45d2-c603-3935c9478d92"
      },
      "outputs": [
        {
          "output_type": "stream",
          "name": "stdout",
          "text": [
            "Vector(5, 7, 9)\n"
          ]
        }
      ],
      "source": [
        "\n",
        "class Vector:\n",
        "    def __init__(self, *coords):\n",
        "        self.coords = tuple(coords)\n",
        "\n",
        "    def __add__(self, other):\n",
        "        if not isinstance(other, Vector) or len(self.coords) != len(other.coords):\n",
        "            raise TypeError(\"Vectors must be same dimension\")\n",
        "        return Vector(*[a + b for a, b in zip(self.coords, other.coords)])\n",
        "\n",
        "    def __repr__(self):\n",
        "        return f\"Vector{self.coords}\"\n",
        "\n",
        "# Demo\n",
        "v1 = Vector(1, 2, 3)\n",
        "v2 = Vector(4, 5, 6)\n",
        "print(v1 + v2)\n"
      ]
    },
    {
      "cell_type": "markdown",
      "id": "a1a9b92b",
      "metadata": {
        "id": "a1a9b92b"
      },
      "source": [
        "11. Create a class Person with attributes name and age. Add a method greet() that prints \"Hello, my name is\n",
        "{name} and I am {age} years old.\""
      ]
    },
    {
      "cell_type": "code",
      "execution_count": 11,
      "id": "7da5a1e2",
      "metadata": {
        "colab": {
          "base_uri": "https://localhost:8080/"
        },
        "id": "7da5a1e2",
        "outputId": "fbb0ee2b-20ef-4cd3-9036-4a7cfd6786df"
      },
      "outputs": [
        {
          "output_type": "stream",
          "name": "stdout",
          "text": [
            "Hello, my name is Pawan and I am 22 years old.\n"
          ]
        }
      ],
      "source": [
        "\n",
        "class Person:\n",
        "    def __init__(self, name, age):\n",
        "        self.name = name\n",
        "        self.age = age\n",
        "\n",
        "    def greet(self):\n",
        "        print(f\"Hello, my name is {self.name} and I am {self.age} years old.\")\n",
        "\n",
        "# Demo\n",
        "Person(\"Pawan\", 22).greet()\n"
      ]
    },
    {
      "cell_type": "markdown",
      "id": "58017ff7",
      "metadata": {
        "id": "58017ff7"
      },
      "source": [
        "12. Implement a class Student with attributes name and grades. Create a method average_grade() to compute\n",
        "the average of the grades."
      ]
    },
    {
      "cell_type": "code",
      "execution_count": 12,
      "id": "f8b5b826",
      "metadata": {
        "colab": {
          "base_uri": "https://localhost:8080/"
        },
        "id": "f8b5b826",
        "outputId": "e71e034b-c504-4cc1-d291-1889a5dfbe20"
      },
      "outputs": [
        {
          "output_type": "stream",
          "name": "stdout",
          "text": [
            "80.0\n"
          ]
        }
      ],
      "source": [
        "\n",
        "class Student:\n",
        "    def __init__(self, name, grades):\n",
        "        self.name = name\n",
        "        self.grades = list(grades)\n",
        "\n",
        "    def average_grade(self):\n",
        "        return sum(self.grades) / len(self.grades) if self.grades else 0.0\n",
        "\n",
        "# Demo\n",
        "print(Student(\"X\", [80, 90, 70]).average_grade())\n"
      ]
    },
    {
      "cell_type": "markdown",
      "id": "5f17e8bd",
      "metadata": {
        "id": "5f17e8bd"
      },
      "source": [
        "13. Create a class Rectangle with methods set_dimensions() to set the dimensions and area() to calculate the\n",
        "area."
      ]
    },
    {
      "cell_type": "code",
      "execution_count": 13,
      "id": "453725b0",
      "metadata": {
        "colab": {
          "base_uri": "https://localhost:8080/"
        },
        "id": "453725b0",
        "outputId": "365b658f-ed37-41ab-8cac-aafd9162c072"
      },
      "outputs": [
        {
          "output_type": "stream",
          "name": "stdout",
          "text": [
            "30\n"
          ]
        }
      ],
      "source": [
        "\n",
        "class Rectangle:\n",
        "    def __init__(self, width=0, height=0):\n",
        "        self.width = width\n",
        "        self.height = height\n",
        "\n",
        "    def set_dimensions(self, width, height):\n",
        "        self.width = width\n",
        "        self.height = height\n",
        "        return self  # enable chaining\n",
        "\n",
        "    def area(self):\n",
        "        return self.width * self.height\n",
        "\n",
        "# Demo\n",
        "rect = Rectangle().set_dimensions(5, 6)\n",
        "print(rect.area())\n"
      ]
    },
    {
      "cell_type": "markdown",
      "id": "ce679c5c",
      "metadata": {
        "id": "ce679c5c"
      },
      "source": [
        "14. Create a class Employee with a method calculate_salary() that computes the salary based on hours worked\n",
        "and hourly rate. Create a derived class Manager that adds a bonus to the salary."
      ]
    },
    {
      "cell_type": "code",
      "execution_count": 14,
      "id": "2dc69309",
      "metadata": {
        "colab": {
          "base_uri": "https://localhost:8080/"
        },
        "id": "2dc69309",
        "outputId": "74b2ea57-9b77-439c-c5f2-2e4cac6eb4ca"
      },
      "outputs": [
        {
          "output_type": "stream",
          "name": "stdout",
          "text": [
            "1000\n",
            "1500\n"
          ]
        }
      ],
      "source": [
        "\n",
        "class Employee:\n",
        "    def calculate_salary(self, hours_worked, hourly_rate):\n",
        "        return hours_worked * hourly_rate\n",
        "\n",
        "class Manager(Employee):\n",
        "    def __init__(self, bonus):\n",
        "        self.bonus = bonus\n",
        "\n",
        "    def calculate_salary(self, hours_worked, hourly_rate):\n",
        "        base = super().calculate_salary(hours_worked, hourly_rate)\n",
        "        return base + self.bonus\n",
        "\n",
        "# Demo\n",
        "print(Employee().calculate_salary(40, 25))\n",
        "print(Manager(500).calculate_salary(40, 25))\n"
      ]
    },
    {
      "cell_type": "markdown",
      "id": "043af70d",
      "metadata": {
        "id": "043af70d"
      },
      "source": [
        "15. Create a class Product with attributes name, price, and quantity. Implement a method total_price() that\n",
        "calculates the total price of the product."
      ]
    },
    {
      "cell_type": "code",
      "execution_count": 15,
      "id": "f55649ad",
      "metadata": {
        "colab": {
          "base_uri": "https://localhost:8080/"
        },
        "id": "f55649ad",
        "outputId": "a6f6550b-0328-46fc-c00d-fed8314654f4"
      },
      "outputs": [
        {
          "output_type": "stream",
          "name": "stdout",
          "text": [
            "149.97\n"
          ]
        }
      ],
      "source": [
        "\n",
        "class Product:\n",
        "    def __init__(self, name, price, quantity):\n",
        "        self.name = name\n",
        "        self.price = float(price)\n",
        "        self.quantity = int(quantity)\n",
        "\n",
        "    def total_price(self):\n",
        "        return self.price * self.quantity\n",
        "\n",
        "# Demo\n",
        "print(Product(\"Notebook\", 49.99, 3).total_price())\n"
      ]
    },
    {
      "cell_type": "markdown",
      "id": "c0b3e588",
      "metadata": {
        "id": "c0b3e588"
      },
      "source": [
        "16. Create a class Animal with an abstract method sound(). Create two derived classes Cow and Sheep that\n",
        "implement the sound() method."
      ]
    },
    {
      "cell_type": "code",
      "execution_count": 16,
      "id": "1e336800",
      "metadata": {
        "colab": {
          "base_uri": "https://localhost:8080/"
        },
        "id": "1e336800",
        "outputId": "a243a829-0a9e-4ee9-9b91-9d42b20281f7"
      },
      "outputs": [
        {
          "output_type": "stream",
          "name": "stdout",
          "text": [
            "Moo\n",
            "Baa\n"
          ]
        }
      ],
      "source": [
        "\n",
        "from abc import ABC, abstractmethod\n",
        "\n",
        "class Animal(ABC):\n",
        "    @abstractmethod\n",
        "    def sound(self):\n",
        "        pass\n",
        "\n",
        "class Cow(Animal):\n",
        "    def sound(self):\n",
        "        return \"Moo\"\n",
        "\n",
        "class Sheep(Animal):\n",
        "    def sound(self):\n",
        "        return \"Baa\"\n",
        "\n",
        "# Demo\n",
        "for a in (Cow(), Sheep()):\n",
        "    print(a.sound())\n"
      ]
    },
    {
      "cell_type": "markdown",
      "id": "ec802186",
      "metadata": {
        "id": "ec802186"
      },
      "source": [
        "17. Create a class Book with attributes title, author, and year_published. Add a method get_book_info() that\n",
        "returns a formatted string with the book's details."
      ]
    },
    {
      "cell_type": "code",
      "execution_count": 17,
      "id": "d75dc9ef",
      "metadata": {
        "colab": {
          "base_uri": "https://localhost:8080/"
        },
        "id": "d75dc9ef",
        "outputId": "0981e4d2-d10c-4676-b271-8171539ce3ad"
      },
      "outputs": [
        {
          "output_type": "stream",
          "name": "stdout",
          "text": [
            "'Clean Code' by Robert C. Martin (2008)\n"
          ]
        }
      ],
      "source": [
        "\n",
        "class Book:\n",
        "    def __init__(self, title, author, year_published):\n",
        "        self.title = title\n",
        "        self.author = author\n",
        "        self.year_published = int(year_published)\n",
        "\n",
        "    def get_book_info(self):\n",
        "        return f\"'{self.title}' by {self.author} ({self.year_published})\"\n",
        "\n",
        "# Demo\n",
        "print(Book(\"Clean Code\", \"Robert C. Martin\", 2008).get_book_info())\n"
      ]
    },
    {
      "cell_type": "markdown",
      "id": "325de2db",
      "metadata": {
        "id": "325de2db"
      },
      "source": [
        "18. Create a class House with attributes address and price. Create a derived class Mansion that adds an\n",
        "attribute number_of_rooms."
      ]
    },
    {
      "cell_type": "code",
      "execution_count": 18,
      "id": "08517e32",
      "metadata": {
        "colab": {
          "base_uri": "https://localhost:8080/"
        },
        "id": "08517e32",
        "outputId": "deb3c390-c43b-432a-f4b5-94413777d0e3"
      },
      "outputs": [
        {
          "output_type": "stream",
          "name": "stdout",
          "text": [
            "221B Baker Street 1500000 20\n"
          ]
        }
      ],
      "source": [
        "\n",
        "class House:\n",
        "    def __init__(self, address, price):\n",
        "        self.address = address\n",
        "        self.price = price\n",
        "\n",
        "class Mansion(House):\n",
        "    def __init__(self, address, price, number_of_rooms):\n",
        "        super().__init__(address, price)\n",
        "        self.number_of_rooms = number_of_rooms\n",
        "\n",
        "# Demo\n",
        "m = Mansion(\"221B Baker Street\", 1_500_000, 20)\n",
        "print(m.address, m.price, m.number_of_rooms)"
      ]
    }
  ],
  "metadata": {
    "colab": {
      "provenance": [],
      "collapsed_sections": [
        "c28df10d",
        "87774862"
      ]
    },
    "language_info": {
      "name": "python"
    },
    "kernelspec": {
      "name": "python3",
      "display_name": "Python 3"
    }
  },
  "nbformat": 4,
  "nbformat_minor": 5
}